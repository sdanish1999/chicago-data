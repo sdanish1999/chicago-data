{
    "cells": [
        {
            "cell_type": "markdown",
            "metadata": {},
            "source": "###Assignment Topic:\nIn this assignment, you will download the datasets provided, load them into a database, write and execute SQL queries to answer the problems provided, and upload a screenshot showing the correct SQL query and result for review by your peers. A Jupyter notebook is provided in the preceding lesson to help you with the process.\n\nThis assignment involves 3 datasets for the city of Chicago obtained from the Chicago Data Portal:\n\n1. Chicago Socioeconomic Indicators\n\nThis dataset contains a selection of six socioeconomic indicators of public health significance and a hardship index, by Chicago community area, for the years 2008 \u2013 2012.\n\n2. Chicago Public Schools\n\nThis dataset shows all school level performance data used to create CPS School Report Cards for the 2011-2012 school year.\n\n3. Chicago Crime Data\n\nThis dataset reflects reported incidents of crime (with the exception of murders where data exists for each victim) that occurred in the City of Chicago from 2001 to present, minus the most recent seven days.\n\nInstructions:\n1. Review the datasets\n\nBefore you begin, you will need to become familiar with the datasets. Snapshots for the three datasets in .CSV format can be downloaded from the following links:\n\nChicago Socioeconomic Indicators: Click here\n\nChicago Public Schools: Click here\n\nChicago Crime Data: Click here\n\nNOTE: Ensure you have downloaded the datasets using the links above instead of directly from the Chicago Data Portal. The versions linked here are subsets of the original datasets and have some of the column names modified to be more database friendly which will make it easier to complete this assignment. The CSV file provided above for the Chicago Crime Data is a very small subset of the full dataset available from the Chicago Data Portal. The original dataset is over 1.55GB in size and contains over 6.5 million rows. For the purposes of this assignment you will use a much smaller sample with only about 500 rows.\n\n2. Load the datasets into a database\n\nPerform this step using the LOAD tool in the Db2 console. You will need to create 3 tables in the database, one for each dataset, named as follows, and then load the respective .CSV file into the table:\n\nCENSUS_DATA\n\nCHICAGO_PUBLIC_SCHOOLS\n\nCHICAGO_CRIME_DATA\n\nTo load the data into the tables the steps are similar to Week 2 Lab 1 Part II. The only difference with that lab is that in Step 5 of the instructions you will need to click on create (+) New Table and specify the name of the table you want to create and then click Next.\n\n"
        },
        {
            "cell_type": "code",
            "execution_count": 2,
            "metadata": {
                "scrolled": true
            },
            "outputs": [
                {
                    "name": "stdout",
                    "output_type": "stream",
                    "text": "Requirement already satisfied: sqlalchemy in /opt/conda/envs/Python-3.8-main/lib/python3.8/site-packages (1.4.22)\nRequirement already satisfied: greenlet!=0.4.17 in /opt/conda/envs/Python-3.8-main/lib/python3.8/site-packages (from sqlalchemy) (1.1.1)\nRequirement already satisfied: ibm_db_sa in /opt/conda/envs/Python-3.8-main/lib/python3.8/site-packages (0.3.7)\nRequirement already satisfied: ibm-db>=2.0.0 in /opt/conda/envs/Python-3.8-main/lib/python3.8/site-packages (from ibm_db_sa) (3.0.4)\nRequirement already satisfied: sqlalchemy>=0.7.3 in /opt/conda/envs/Python-3.8-main/lib/python3.8/site-packages (from ibm_db_sa) (1.4.22)\nRequirement already satisfied: greenlet!=0.4.17 in /opt/conda/envs/Python-3.8-main/lib/python3.8/site-packages (from sqlalchemy>=0.7.3->ibm_db_sa) (1.1.1)\nCollecting sqlalchemy==1.3.9\n  Downloading SQLAlchemy-1.3.9.tar.gz (6.0 MB)\n\u001b[K     |\u2588\u2588\u2588\u2588\u2588\u2588\u2588\u2588\u2588\u2588\u2588\u2588\u2588\u2588\u2588\u2588\u2588\u2588\u2588\u2588\u2588\u2588\u2588\u2588\u2588\u2588\u2588\u2588\u2588\u2588\u2588\u2588| 6.0 MB 11.7 MB/s eta 0:00:01\n\u001b[?25hBuilding wheels for collected packages: sqlalchemy\n  Building wheel for sqlalchemy (setup.py) ... \u001b[?25ldone\n\u001b[?25h  Created wheel for sqlalchemy: filename=SQLAlchemy-1.3.9-cp38-cp38-linux_x86_64.whl size=1209508 sha256=7ea4af599c73e467ad37a53004514d0aa5ae90f3945831f9edfc77e9920fe1c1\n  Stored in directory: /tmp/wsuser/.cache/pip/wheels/cb/43/46/fa638f2422554332b7865d600275b24568bf60e76104a94bb4\nSuccessfully built sqlalchemy\nInstalling collected packages: sqlalchemy\n  Attempting uninstall: sqlalchemy\n    Found existing installation: SQLAlchemy 1.4.22\n    Uninstalling SQLAlchemy-1.4.22:\n      Successfully uninstalled SQLAlchemy-1.4.22\nSuccessfully installed sqlalchemy-1.3.9\nRequirement already satisfied: ibm_db_sa in /opt/conda/envs/Python-3.8-main/lib/python3.8/site-packages (0.3.7)\nRequirement already satisfied: sqlalchemy>=0.7.3 in /opt/conda/envs/Python-3.8-main/lib/python3.8/site-packages (from ibm_db_sa) (1.3.9)\nRequirement already satisfied: ibm-db>=2.0.0 in /opt/conda/envs/Python-3.8-main/lib/python3.8/site-packages (from ibm_db_sa) (3.0.4)\nCollecting ipython-sql\n  Downloading ipython_sql-0.4.0-py3-none-any.whl (19 kB)\nCollecting sqlparse\n  Downloading sqlparse-0.4.2-py3-none-any.whl (42 kB)\n\u001b[K     |\u2588\u2588\u2588\u2588\u2588\u2588\u2588\u2588\u2588\u2588\u2588\u2588\u2588\u2588\u2588\u2588\u2588\u2588\u2588\u2588\u2588\u2588\u2588\u2588\u2588\u2588\u2588\u2588\u2588\u2588\u2588\u2588| 42 kB 1.5 MB/s  eta 0:00:01\n\u001b[?25hRequirement already satisfied: six in /opt/conda/envs/Python-3.8-main/lib/python3.8/site-packages (from ipython-sql) (1.15.0)\nRequirement already satisfied: sqlalchemy>=0.6.7 in /opt/conda/envs/Python-3.8-main/lib/python3.8/site-packages (from ipython-sql) (1.3.9)\nRequirement already satisfied: ipython>=1.0 in /opt/conda/envs/Python-3.8-main/lib/python3.8/site-packages (from ipython-sql) (7.22.0)\nRequirement already satisfied: ipython-genutils>=0.1.0 in /opt/conda/envs/Python-3.8-main/lib/python3.8/site-packages (from ipython-sql) (0.2.0)\nCollecting prettytable<1\n  Downloading prettytable-0.7.2.zip (28 kB)\nRequirement already satisfied: setuptools>=18.5 in /opt/conda/envs/Python-3.8-main/lib/python3.8/site-packages (from ipython>=1.0->ipython-sql) (52.0.0.post20211006)\nRequirement already satisfied: backcall in /opt/conda/envs/Python-3.8-main/lib/python3.8/site-packages (from ipython>=1.0->ipython-sql) (0.2.0)\nRequirement already satisfied: decorator in /opt/conda/envs/Python-3.8-main/lib/python3.8/site-packages (from ipython>=1.0->ipython-sql) (5.0.9)\nRequirement already satisfied: prompt-toolkit!=3.0.0,!=3.0.1,<3.1.0,>=2.0.0 in /opt/conda/envs/Python-3.8-main/lib/python3.8/site-packages (from ipython>=1.0->ipython-sql) (3.0.17)\nRequirement already satisfied: pygments in /opt/conda/envs/Python-3.8-main/lib/python3.8/site-packages (from ipython>=1.0->ipython-sql) (2.9.0)\nRequirement already satisfied: pexpect>4.3 in /opt/conda/envs/Python-3.8-main/lib/python3.8/site-packages (from ipython>=1.0->ipython-sql) (4.8.0)\nRequirement already satisfied: traitlets>=4.2 in /opt/conda/envs/Python-3.8-main/lib/python3.8/site-packages (from ipython>=1.0->ipython-sql) (5.0.5)\nRequirement already satisfied: pickleshare in /opt/conda/envs/Python-3.8-main/lib/python3.8/site-packages (from ipython>=1.0->ipython-sql) (0.7.5)\nRequirement already satisfied: jedi>=0.16 in /opt/conda/envs/Python-3.8-main/lib/python3.8/site-packages (from ipython>=1.0->ipython-sql) (0.17.2)\nRequirement already satisfied: parso<0.8.0,>=0.7.0 in /opt/conda/envs/Python-3.8-main/lib/python3.8/site-packages (from jedi>=0.16->ipython>=1.0->ipython-sql) (0.7.0)\nRequirement already satisfied: ptyprocess>=0.5 in /opt/conda/envs/Python-3.8-main/lib/python3.8/site-packages (from pexpect>4.3->ipython>=1.0->ipython-sql) (0.7.0)\nRequirement already satisfied: wcwidth in /opt/conda/envs/Python-3.8-main/lib/python3.8/site-packages (from prompt-toolkit!=3.0.0,!=3.0.1,<3.1.0,>=2.0.0->ipython>=1.0->ipython-sql) (0.2.5)\nBuilding wheels for collected packages: prettytable\n  Building wheel for prettytable (setup.py) ... \u001b[?25ldone\n\u001b[?25h  Created wheel for prettytable: filename=prettytable-0.7.2-py3-none-any.whl size=13700 sha256=0829323530ecffa9891f5f1381e613d7c4cb4cfedf7b9f976de02c234d0316ec\n  Stored in directory: /tmp/wsuser/.cache/pip/wheels/48/6d/77/9517cb933af254f51a446f1a5ec9c2be3e45f17384940bce68\nSuccessfully built prettytable\nInstalling collected packages: sqlparse, prettytable, ipython-sql\nSuccessfully installed ipython-sql-0.4.0 prettytable-0.7.2 sqlparse-0.4.2\n"
                }
            ],
            "source": "!pip install sqlalchemy\n!pip install ibm_db_sa\n!pip install sqlalchemy==1.3.9\n!pip install ibm_db_sa\n!pip install ipython-sql \n"
        },
        {
            "cell_type": "code",
            "execution_count": 3,
            "metadata": {},
            "outputs": [],
            "source": "%reload_ext sql"
        },
        {
            "cell_type": "code",
            "execution_count": 4,
            "metadata": {},
            "outputs": [],
            "source": "# Enter the connection string for your Db2 on Cloud database instance below\n# %sql ibm_db_sa://my-username:my-password@my-hostname:my-port/my-db-name?security=SSL\n%sql ibm_db_sa://dkp76284:0sQbwR7jUkrGzfrn@0c77d6f2-5da9-48a9-81f8-86b520b87518.bs2io90l08kqb1od8lcg.databases.appdomain.cloud:31198/BLUDB?security=SSL"
        },
        {
            "cell_type": "code",
            "execution_count": 11,
            "metadata": {
                "scrolled": false
            },
            "outputs": [
                {
                    "name": "stdout",
                    "output_type": "stream",
                    "text": " * ibm_db_sa://dkp76284:***@0c77d6f2-5da9-48a9-81f8-86b520b87518.bs2io90l08kqb1od8lcg.databases.appdomain.cloud:31198/BLUDB\nDone.\n"
                },
                {
                    "data": {
                        "text/html": "<table>\n    <tr>\n        <th>total_number_of_crime_cases</th>\n    </tr>\n    <tr>\n        <td>533</td>\n    </tr>\n</table>",
                        "text/plain": "[(533,)]"
                    },
                    "execution_count": 11,
                    "metadata": {},
                    "output_type": "execute_result"
                }
            ],
            "source": "# Problem 1: Find the total number of crimes recorded in the CRIME table.\n%sql select count(*)  as TOTAL_NUMBER_OF_CRIME_CASES from CHICAGO_CRIME_DATA"
        },
        {
            "cell_type": "code",
            "execution_count": 13,
            "metadata": {},
            "outputs": [
                {
                    "name": "stdout",
                    "output_type": "stream",
                    "text": " * ibm_db_sa://dkp76284:***@0c77d6f2-5da9-48a9-81f8-86b520b87518.bs2io90l08kqb1od8lcg.databases.appdomain.cloud:31198/BLUDB\nDone.\n"
                },
                {
                    "data": {
                        "text/html": "<table>\n    <tr>\n        <th>community_area_name</th>\n    </tr>\n    <tr>\n        <td>West Garfield Park</td>\n    </tr>\n    <tr>\n        <td>South Lawndale</td>\n    </tr>\n    <tr>\n        <td>Fuller Park</td>\n    </tr>\n    <tr>\n        <td>Riverdale</td>\n    </tr>\n</table>",
                        "text/plain": "[('West Garfield Park',),\n ('South Lawndale',),\n ('Fuller Park',),\n ('Riverdale',)]"
                    },
                    "execution_count": 13,
                    "metadata": {},
                    "output_type": "execute_result"
                }
            ],
            "source": "#Problem 2: List community areas with per capita income less than 11000.\n%sql select community_area_name from census_data where per_capita_income<11000"
        },
        {
            "cell_type": "code",
            "execution_count": 35,
            "metadata": {},
            "outputs": [
                {
                    "name": "stdout",
                    "output_type": "stream",
                    "text": " * ibm_db_sa://dkp76284:***@0c77d6f2-5da9-48a9-81f8-86b520b87518.bs2io90l08kqb1od8lcg.databases.appdomain.cloud:31198/BLUDB\nDone.\n"
                },
                {
                    "data": {
                        "text/html": "<table>\n    <tr>\n        <th>case_number</th>\n    </tr>\n    <tr>\n        <td>HL266884</td>\n    </tr>\n    <tr>\n        <td>HK238408</td>\n    </tr>\n</table>",
                        "text/plain": "[('HL266884',), ('HK238408',)]"
                    },
                    "execution_count": 35,
                    "metadata": {},
                    "output_type": "execute_result"
                }
            ],
            "source": "#Problem 3: List all case numbers for crimes involving minors?\n%sql select case_number from chicago_crime_data where lcase(primary_type) = 'offense involving children' or lcase(description) like '%minor'"
        },
        {
            "cell_type": "code",
            "execution_count": 7,
            "metadata": {},
            "outputs": [
                {
                    "name": "stdout",
                    "output_type": "stream",
                    "text": " * ibm_db_sa://dkp76284:***@0c77d6f2-5da9-48a9-81f8-86b520b87518.bs2io90l08kqb1od8lcg.databases.appdomain.cloud:31198/BLUDB\nDone.\n"
                },
                {
                    "data": {
                        "text/html": "<table>\n    <tr>\n        <th>case_number</th>\n    </tr>\n    <tr>\n        <td>HN144152</td>\n    </tr>\n</table>",
                        "text/plain": "[('HN144152',)]"
                    },
                    "execution_count": 7,
                    "metadata": {},
                    "output_type": "execute_result"
                }
            ],
            "source": "# Problem4: List all kidnapping crimes involving a child?(children are not considered minors for the purposes of crime analysis)\n%sql select case_number from chicago_crime_data where primary_type='KIDNAPPING' "
        },
        {
            "cell_type": "code",
            "execution_count": 9,
            "metadata": {},
            "outputs": [
                {
                    "name": "stdout",
                    "output_type": "stream",
                    "text": " * ibm_db_sa://dkp76284:***@0c77d6f2-5da9-48a9-81f8-86b520b87518.bs2io90l08kqb1od8lcg.databases.appdomain.cloud:31198/BLUDB\nDone.\n"
                },
                {
                    "data": {
                        "text/html": "<table>\n    <tr>\n        <th>crime_recorded_atschool</th>\n    </tr>\n    <tr>\n        <td>BATTERY</td>\n    </tr>\n    <tr>\n        <td>BATTERY</td>\n    </tr>\n    <tr>\n        <td>BATTERY</td>\n    </tr>\n    <tr>\n        <td>BATTERY</td>\n    </tr>\n    <tr>\n        <td>BATTERY</td>\n    </tr>\n    <tr>\n        <td>CRIMINAL DAMAGE</td>\n    </tr>\n    <tr>\n        <td>NARCOTICS</td>\n    </tr>\n    <tr>\n        <td>NARCOTICS</td>\n    </tr>\n    <tr>\n        <td>ASSAULT</td>\n    </tr>\n    <tr>\n        <td>CRIMINAL TRESPA</td>\n    </tr>\n    <tr>\n        <td>PUBLIC PEACE VI</td>\n    </tr>\n    <tr>\n        <td>PUBLIC PEACE VI</td>\n    </tr>\n</table>",
                        "text/plain": "[('BATTERY',),\n ('BATTERY',),\n ('BATTERY',),\n ('BATTERY',),\n ('BATTERY',),\n ('CRIMINAL DAMAGE',),\n ('NARCOTICS',),\n ('NARCOTICS',),\n ('ASSAULT',),\n ('CRIMINAL TRESPA',),\n ('PUBLIC PEACE VI',),\n ('PUBLIC PEACE VI',)]"
                    },
                    "execution_count": 9,
                    "metadata": {},
                    "output_type": "execute_result"
                }
            ],
            "source": "#Problem 5: What kind of crimes were recorded at schools?\n\n%sql select primary_type as crime_recorded_atschool from  CHICAGO_CRIME_DATA where location_description like '%SCHOOL%'"
        },
        {
            "cell_type": "code",
            "execution_count": 10,
            "metadata": {},
            "outputs": [
                {
                    "name": "stdout",
                    "output_type": "stream",
                    "text": " * ibm_db_sa://dkp76284:***@0c77d6f2-5da9-48a9-81f8-86b520b87518.bs2io90l08kqb1od8lcg.databases.appdomain.cloud:31198/BLUDB\nDone.\n"
                },
                {
                    "data": {
                        "text/html": "<table>\n    <tr>\n        <th>average_safety_score</th>\n    </tr>\n    <tr>\n        <td>49</td>\n    </tr>\n</table>",
                        "text/plain": "[(49,)]"
                    },
                    "execution_count": 10,
                    "metadata": {},
                    "output_type": "execute_result"
                }
            ],
            "source": "#Problem 6: List the average safety score for all types of schools.\n%sql select avg(safety_score) as average_safety_score from CHICAGO_PUBLIC_SCHOOLS"
        },
        {
            "cell_type": "code",
            "execution_count": 23,
            "metadata": {},
            "outputs": [
                {
                    "name": "stdout",
                    "output_type": "stream",
                    "text": " * ibm_db_sa://dkp76284:***@0c77d6f2-5da9-48a9-81f8-86b520b87518.bs2io90l08kqb1od8lcg.databases.appdomain.cloud:31198/BLUDB\nDone.\n"
                },
                {
                    "data": {
                        "text/html": "<table>\n    <tr>\n        <th>community_area_number</th>\n        <th>community_area_name</th>\n    </tr>\n    <tr>\n        <td>54</td>\n        <td>Riverdale</td>\n    </tr>\n    <tr>\n        <td>37</td>\n        <td>Fuller Park</td>\n    </tr>\n    <tr>\n        <td>68</td>\n        <td>Englewood</td>\n    </tr>\n    <tr>\n        <td>29</td>\n        <td>North Lawndale</td>\n    </tr>\n    <tr>\n        <td>27</td>\n        <td>East Garfield Park</td>\n    </tr>\n</table>",
                        "text/plain": "[(54, 'Riverdale'),\n (37, 'Fuller Park'),\n (68, 'Englewood'),\n (29, 'North Lawndale'),\n (27, 'East Garfield Park')]"
                    },
                    "execution_count": 23,
                    "metadata": {},
                    "output_type": "execute_result"
                }
            ],
            "source": "#Problem 7: List 5 community areas with highest % of households below poverty line.\n\n#%sql select COMMUNITY_AREA_NAME,PERCENT_HOUSEHOLDS_BELOW_POVERTY from CENSUS_DATA\\\n#where PERCENT_HOUSEHOLDS_BELOW_POVERTY IN(select max(PERCENT_HOUSEHOLDS_BELOW_POVERTY) from CENSUS_DATA) limit 5\n%sql select community_area_number, community_area_name from census_data\\\norder by percent_households_below_poverty desc limit 5;\n"
        },
        {
            "cell_type": "code",
            "execution_count": 24,
            "metadata": {
                "scrolled": true
            },
            "outputs": [
                {
                    "name": "stdout",
                    "output_type": "stream",
                    "text": " * ibm_db_sa://dkp76284:***@0c77d6f2-5da9-48a9-81f8-86b520b87518.bs2io90l08kqb1od8lcg.databases.appdomain.cloud:31198/BLUDB\nDone.\n"
                },
                {
                    "data": {
                        "text/html": "<table>\n    <tr>\n        <th>community_area_number</th>\n        <th>no_of_cases</th>\n    </tr>\n    <tr>\n        <td>25</td>\n        <td>43</td>\n    </tr>\n</table>",
                        "text/plain": "[(25, 43)]"
                    },
                    "execution_count": 24,
                    "metadata": {},
                    "output_type": "execute_result"
                }
            ],
            "source": "#Problem 8: Which community area(number) is most crime prone?\n\n%sql select community_area_number,count(case_number) as no_of_cases from CHICAGO_CRIME_DATA\\\ngroup by community_area_number order by no_of_cases desc limit 1\n\n\n"
        },
        {
            "cell_type": "code",
            "execution_count": 8,
            "metadata": {},
            "outputs": [
                {
                    "name": "stdout",
                    "output_type": "stream",
                    "text": " * ibm_db_sa://dkp76284:***@0c77d6f2-5da9-48a9-81f8-86b520b87518.bs2io90l08kqb1od8lcg.databases.appdomain.cloud:31198/BLUDB\nDone.\n"
                },
                {
                    "data": {
                        "text/html": "<table>\n    <tr>\n        <th>community_area_name</th>\n    </tr>\n    <tr>\n        <td>Riverdale</td>\n    </tr>\n</table>",
                        "text/plain": "[('Riverdale',)]"
                    },
                    "execution_count": 8,
                    "metadata": {},
                    "output_type": "execute_result"
                }
            ],
            "source": "#Problem 9: Use a sub-query to find the name of the community area with highest hardship index.\n\n%sql select community_area_name from census_data where hardship_index=(select max(hardship_index) from census_data)\n"
        },
        {
            "cell_type": "code",
            "execution_count": 25,
            "metadata": {},
            "outputs": [
                {
                    "name": "stdout",
                    "output_type": "stream",
                    "text": " * ibm_db_sa://dkp76284:***@0c77d6f2-5da9-48a9-81f8-86b520b87518.bs2io90l08kqb1od8lcg.databases.appdomain.cloud:31198/BLUDB\nDone.\n"
                },
                {
                    "data": {
                        "text/html": "<table>\n    <tr>\n        <th>community_area_name</th>\n    </tr>\n    <tr>\n        <td>Austin</td>\n    </tr>\n</table>",
                        "text/plain": "[('Austin',)]"
                    },
                    "execution_count": 25,
                    "metadata": {},
                    "output_type": "execute_result"
                }
            ],
            "source": "#Problem 10: Use a sub-query to determine the Community Area Name with most number of crimes?\n%sql select community_area_name from census_data where\\\ncommunity_area_number = (select community_area_number from (select * from (select community_area_number, count(community_area_number)\\\nas crimes_in_community from chicago_crime_data group by community_area_number))where\\\ncrimes_in_community =(select max(crimes_in_community) from (select community_area_number, count(community_area_number) as\\\n                                                            crimes_in_community from chicago_crime_data group by community_area_number)));"
        },
        {
            "cell_type": "code",
            "execution_count": null,
            "metadata": {},
            "outputs": [],
            "source": ""
        }
    ],
    "metadata": {
        "kernelspec": {
            "display_name": "Python 3.8",
            "language": "python",
            "name": "python3"
        },
        "language_info": {
            "codemirror_mode": {
                "name": "ipython",
                "version": 3
            },
            "file_extension": ".py",
            "mimetype": "text/x-python",
            "name": "python",
            "nbconvert_exporter": "python",
            "pygments_lexer": "ipython3",
            "version": "3.8.11"
        }
    },
    "nbformat": 4,
    "nbformat_minor": 1
}